{
  "nbformat": 4,
  "nbformat_minor": 0,
  "metadata": {
    "colab": {
      "provenance": []
    },
    "kernelspec": {
      "name": "python3",
      "display_name": "Python 3"
    },
    "language_info": {
      "name": "python"
    }
  },
  "cells": [
    {
      "cell_type": "code",
      "source": [
        "import math"
      ],
      "metadata": {
        "id": "YuMi_HfqknJS"
      },
      "execution_count": 1,
      "outputs": []
    },
    {
      "cell_type": "markdown",
      "source": [
        "**A) Calculating the expected number of roll attempts with a n-sided die until a face showing a value of x or higher is observed.**"
      ],
      "metadata": {
        "id": "qA05GMBTQLjE"
      }
    },
    {
      "cell_type": "markdown",
      "source": [
        "**1. Code**\n",
        "- the number of rolls is rounded up"
      ],
      "metadata": {
        "id": "GANhDa1Mavbc"
      }
    },
    {
      "cell_type": "code",
      "source": [
        "def expected_number_rolls_one_die(n, x):\n",
        "    if x <= 1 or x > n:\n",
        "        return 0  # If x is higher than the number of sides or less than 1, invalid input\n",
        "\n",
        "    # Calculate the probability of success\n",
        "    success_probability = (n - x + 1) / n\n",
        "\n",
        "    # number of rolls is 1/ the prboability of success\n",
        "    expected_rolls = 1 / success_probability\n",
        "\n",
        "    return math.ceil(expected_rolls)"
      ],
      "metadata": {
        "id": "LcoAAaQHW19M"
      },
      "execution_count": 2,
      "outputs": []
    },
    {
      "cell_type": "markdown",
      "source": [
        "**2. Instructions on how to use the code**"
      ],
      "metadata": {
        "id": "DNqJvVr7a6vg"
      }
    },
    {
      "cell_type": "markdown",
      "source": [
        "If you run the following piece of code, you will be prompted to enter the number of sides for a dice, and then you will be prompted to add the number (x). Once you choose the number, the program will calculate the number of rolls needed to get a number that is equal to x or higher on a dice of n sides."
      ],
      "metadata": {
        "id": "DK1Nll3fZI8-"
      }
    },
    {
      "cell_type": "code",
      "source": [
        "print(\"Enter the number of sides:\")\n",
        "sides = int(input())\n",
        "print(\"Enter x:\")\n",
        "x = int(input())\n",
        "print(\"The expected number of rolls needed to get\", x, \"or higher using a dice with\", sides, \"sides is:\")\n",
        "print(expected_number_rolls_one_die(sides,x))"
      ],
      "metadata": {
        "colab": {
          "base_uri": "https://localhost:8080/"
        },
        "id": "QXhhxfP8XwES",
        "outputId": "5bfbadd2-29f7-4e7a-e6da-9e77f4fc39ae"
      },
      "execution_count": 3,
      "outputs": [
        {
          "output_type": "stream",
          "name": "stdout",
          "text": [
            "Enter the number of sides:\n",
            "8\n",
            "Enter x:\n",
            "7\n",
            "The expected number of rolls needed to get 7 or higher using a dice with 8 sides is:\n",
            "4\n"
          ]
        }
      ]
    },
    {
      "cell_type": "markdown",
      "source": [
        "**3. A walkthrough example**"
      ],
      "metadata": {
        "id": "LjS1zAS8beS3"
      }
    },
    {
      "cell_type": "markdown",
      "source": [
        "If the user chooses a dice with 8 sides and chooses x to be 7, the code will calculate the following:\n",
        "1. success probability which is (n - x + 1)/n = 2/8 = 1/4\n",
        "2. It will caluclate the number of expected rolls by dividing one by the probability of success. 1/1/4 = 4"
      ],
      "metadata": {
        "id": "J-IO_QFwbhVk"
      }
    },
    {
      "cell_type": "markdown",
      "source": [
        "**B) Determining the probability of rolling m dice, each with n sides, and having at least one die show a value greater than or equal to x.**"
      ],
      "metadata": {
        "id": "a60pm0ZJgNy5"
      }
    },
    {
      "cell_type": "markdown",
      "source": [
        "**1. Code**"
      ],
      "metadata": {
        "id": "VJ5ZZd1Qi31P"
      }
    },
    {
      "cell_type": "code",
      "source": [
        "def expected_rolls_multi_dice(m, n, x):\n",
        "    if x <= 0 or x > n:\n",
        "        return 0  # Invalid input\n",
        "\n",
        "    # Probability of failure for one dice\n",
        "    failure_prob = (x - 1) / n\n",
        "\n",
        "    # Probability of failure for all dice\n",
        "    failure_multi_rolls = failure_prob ** m\n",
        "\n",
        "    # Probability of success is 1 - probability of failure\n",
        "    success_prob = 1 - failure_multi_rolls\n",
        "    return success_prob"
      ],
      "metadata": {
        "id": "2PT1SXh3gLn3"
      },
      "execution_count": 4,
      "outputs": []
    },
    {
      "cell_type": "markdown",
      "source": [
        "**2. Instructions on how to use the code**"
      ],
      "metadata": {
        "id": "sZo2G92eiyLP"
      }
    },
    {
      "cell_type": "markdown",
      "source": [
        "If you run the following piece of code, you will be prompted to enter the number of dices (m), number of sides (n), and (x). The code will estimate the number of rolls needed to get the number (x) rolling (m) dices with (n) sides."
      ],
      "metadata": {
        "id": "yBMdYdoEhB0R"
      }
    },
    {
      "cell_type": "code",
      "source": [
        "print(\"Enter the number of dices:\")\n",
        "dice = int(input())\n",
        "print(\"Enter the number of sides:\")\n",
        "sides = int(input())\n",
        "print(\"Enter x:\")\n",
        "x = int(input())\n",
        "expe = expected_rolls_multi_dice(dice, sides, x)\n",
        "print(\"The probability of success in this scenario is:\", expe )\n"
      ],
      "metadata": {
        "colab": {
          "base_uri": "https://localhost:8080/"
        },
        "id": "eyQ8VdoijA-y",
        "outputId": "6969b97e-beb3-4b83-c1c6-f87f03f0c79c"
      },
      "execution_count": 5,
      "outputs": [
        {
          "output_type": "stream",
          "name": "stdout",
          "text": [
            "Enter the number of dices:\n",
            "2\n",
            "Enter the number of sides:\n",
            "6\n",
            "Enter x:\n",
            "4\n",
            "The probability of success in this scenario is: 0.75\n"
          ]
        }
      ]
    },
    {
      "cell_type": "markdown",
      "source": [
        "**3. A walkthrough Example**"
      ],
      "metadata": {
        "id": "Jj1y-R37i61T"
      }
    },
    {
      "cell_type": "markdown",
      "source": [
        "If\n",
        "m = 2\n",
        "n = 6\n",
        "x = 4\n",
        "\n",
        "The code will do the following:\n",
        "1. calculate the probability of failure for a single dice\n",
        "(x - 1) / n = 3/6 since there are three values that are less than 4\n",
        "2. calculate the probability of failure for all dice\n",
        "since each dice has its own probability of failure that is independant than the other dices, the probability is calculated by multiplying the probability of failure for one dice 2 times.\n",
        "3/6 * 3/6 = 9/36\n",
        "3. In order to get the probability of success, we substract the probability of failure from 1 <br>\n",
        "1 - 9/36 = 27/36 = 3/4 = 0.75"
      ],
      "metadata": {
        "id": "8T30_lsLjAYC"
      }
    }
  ]
}