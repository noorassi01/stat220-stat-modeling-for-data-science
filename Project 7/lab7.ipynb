{
  "nbformat": 4,
  "nbformat_minor": 0,
  "metadata": {
    "colab": {
      "provenance": []
    },
    "kernelspec": {
      "name": "python3",
      "display_name": "Python 3"
    },
    "language_info": {
      "name": "python"
    }
  },
  "cells": [
    {
      "cell_type": "code",
      "execution_count": 1,
      "metadata": {
        "colab": {
          "base_uri": "https://localhost:8080/",
          "height": 206
        },
        "id": "twIuLIgG1n2e",
        "outputId": "92ca5206-953f-4379-e8aa-b8cada27ba4c"
      },
      "outputs": [
        {
          "output_type": "execute_result",
          "data": {
            "text/plain": [
              "   water_temperature  depth     month  salinity  wildlife_seen  wind_speed  \\\n",
              "0              28.84   51.1      June      34.8              2          20   \n",
              "1              25.32   34.4   January      36.1              7           9   \n",
              "2              28.20   41.9      June      31.5              4           4   \n",
              "3              26.41   50.0  December      33.4              7          17   \n",
              "4              26.68   62.0   January      36.1              3           4   \n",
              "\n",
              "   cloud_cover  wave_height  oxygen_levels  \n",
              "0           79          2.2           7.19  \n",
              "1           40          1.8           6.73  \n",
              "2            1          2.3           8.48  \n",
              "3           36          2.0           6.51  \n",
              "4           86          1.8           7.14  "
            ],
            "text/html": [
              "\n",
              "  <div id=\"df-fe8a8521-4e37-4024-b016-2c8e095067be\" class=\"colab-df-container\">\n",
              "    <div>\n",
              "<style scoped>\n",
              "    .dataframe tbody tr th:only-of-type {\n",
              "        vertical-align: middle;\n",
              "    }\n",
              "\n",
              "    .dataframe tbody tr th {\n",
              "        vertical-align: top;\n",
              "    }\n",
              "\n",
              "    .dataframe thead th {\n",
              "        text-align: right;\n",
              "    }\n",
              "</style>\n",
              "<table border=\"1\" class=\"dataframe\">\n",
              "  <thead>\n",
              "    <tr style=\"text-align: right;\">\n",
              "      <th></th>\n",
              "      <th>water_temperature</th>\n",
              "      <th>depth</th>\n",
              "      <th>month</th>\n",
              "      <th>salinity</th>\n",
              "      <th>wildlife_seen</th>\n",
              "      <th>wind_speed</th>\n",
              "      <th>cloud_cover</th>\n",
              "      <th>wave_height</th>\n",
              "      <th>oxygen_levels</th>\n",
              "    </tr>\n",
              "  </thead>\n",
              "  <tbody>\n",
              "    <tr>\n",
              "      <th>0</th>\n",
              "      <td>28.84</td>\n",
              "      <td>51.1</td>\n",
              "      <td>June</td>\n",
              "      <td>34.8</td>\n",
              "      <td>2</td>\n",
              "      <td>20</td>\n",
              "      <td>79</td>\n",
              "      <td>2.2</td>\n",
              "      <td>7.19</td>\n",
              "    </tr>\n",
              "    <tr>\n",
              "      <th>1</th>\n",
              "      <td>25.32</td>\n",
              "      <td>34.4</td>\n",
              "      <td>January</td>\n",
              "      <td>36.1</td>\n",
              "      <td>7</td>\n",
              "      <td>9</td>\n",
              "      <td>40</td>\n",
              "      <td>1.8</td>\n",
              "      <td>6.73</td>\n",
              "    </tr>\n",
              "    <tr>\n",
              "      <th>2</th>\n",
              "      <td>28.20</td>\n",
              "      <td>41.9</td>\n",
              "      <td>June</td>\n",
              "      <td>31.5</td>\n",
              "      <td>4</td>\n",
              "      <td>4</td>\n",
              "      <td>1</td>\n",
              "      <td>2.3</td>\n",
              "      <td>8.48</td>\n",
              "    </tr>\n",
              "    <tr>\n",
              "      <th>3</th>\n",
              "      <td>26.41</td>\n",
              "      <td>50.0</td>\n",
              "      <td>December</td>\n",
              "      <td>33.4</td>\n",
              "      <td>7</td>\n",
              "      <td>17</td>\n",
              "      <td>36</td>\n",
              "      <td>2.0</td>\n",
              "      <td>6.51</td>\n",
              "    </tr>\n",
              "    <tr>\n",
              "      <th>4</th>\n",
              "      <td>26.68</td>\n",
              "      <td>62.0</td>\n",
              "      <td>January</td>\n",
              "      <td>36.1</td>\n",
              "      <td>3</td>\n",
              "      <td>4</td>\n",
              "      <td>86</td>\n",
              "      <td>1.8</td>\n",
              "      <td>7.14</td>\n",
              "    </tr>\n",
              "  </tbody>\n",
              "</table>\n",
              "</div>\n",
              "    <div class=\"colab-df-buttons\">\n",
              "\n",
              "  <div class=\"colab-df-container\">\n",
              "    <button class=\"colab-df-convert\" onclick=\"convertToInteractive('df-fe8a8521-4e37-4024-b016-2c8e095067be')\"\n",
              "            title=\"Convert this dataframe to an interactive table.\"\n",
              "            style=\"display:none;\">\n",
              "\n",
              "  <svg xmlns=\"http://www.w3.org/2000/svg\" height=\"24px\" viewBox=\"0 -960 960 960\">\n",
              "    <path d=\"M120-120v-720h720v720H120Zm60-500h600v-160H180v160Zm220 220h160v-160H400v160Zm0 220h160v-160H400v160ZM180-400h160v-160H180v160Zm440 0h160v-160H620v160ZM180-180h160v-160H180v160Zm440 0h160v-160H620v160Z\"/>\n",
              "  </svg>\n",
              "    </button>\n",
              "\n",
              "  <style>\n",
              "    .colab-df-container {\n",
              "      display:flex;\n",
              "      gap: 12px;\n",
              "    }\n",
              "\n",
              "    .colab-df-convert {\n",
              "      background-color: #E8F0FE;\n",
              "      border: none;\n",
              "      border-radius: 50%;\n",
              "      cursor: pointer;\n",
              "      display: none;\n",
              "      fill: #1967D2;\n",
              "      height: 32px;\n",
              "      padding: 0 0 0 0;\n",
              "      width: 32px;\n",
              "    }\n",
              "\n",
              "    .colab-df-convert:hover {\n",
              "      background-color: #E2EBFA;\n",
              "      box-shadow: 0px 1px 2px rgba(60, 64, 67, 0.3), 0px 1px 3px 1px rgba(60, 64, 67, 0.15);\n",
              "      fill: #174EA6;\n",
              "    }\n",
              "\n",
              "    .colab-df-buttons div {\n",
              "      margin-bottom: 4px;\n",
              "    }\n",
              "\n",
              "    [theme=dark] .colab-df-convert {\n",
              "      background-color: #3B4455;\n",
              "      fill: #D2E3FC;\n",
              "    }\n",
              "\n",
              "    [theme=dark] .colab-df-convert:hover {\n",
              "      background-color: #434B5C;\n",
              "      box-shadow: 0px 1px 3px 1px rgba(0, 0, 0, 0.15);\n",
              "      filter: drop-shadow(0px 1px 2px rgba(0, 0, 0, 0.3));\n",
              "      fill: #FFFFFF;\n",
              "    }\n",
              "  </style>\n",
              "\n",
              "    <script>\n",
              "      const buttonEl =\n",
              "        document.querySelector('#df-fe8a8521-4e37-4024-b016-2c8e095067be button.colab-df-convert');\n",
              "      buttonEl.style.display =\n",
              "        google.colab.kernel.accessAllowed ? 'block' : 'none';\n",
              "\n",
              "      async function convertToInteractive(key) {\n",
              "        const element = document.querySelector('#df-fe8a8521-4e37-4024-b016-2c8e095067be');\n",
              "        const dataTable =\n",
              "          await google.colab.kernel.invokeFunction('convertToInteractive',\n",
              "                                                    [key], {});\n",
              "        if (!dataTable) return;\n",
              "\n",
              "        const docLinkHtml = 'Like what you see? Visit the ' +\n",
              "          '<a target=\"_blank\" href=https://colab.research.google.com/notebooks/data_table.ipynb>data table notebook</a>'\n",
              "          + ' to learn more about interactive tables.';\n",
              "        element.innerHTML = '';\n",
              "        dataTable['output_type'] = 'display_data';\n",
              "        await google.colab.output.renderOutput(dataTable, element);\n",
              "        const docLink = document.createElement('div');\n",
              "        docLink.innerHTML = docLinkHtml;\n",
              "        element.appendChild(docLink);\n",
              "      }\n",
              "    </script>\n",
              "  </div>\n",
              "\n",
              "\n",
              "<div id=\"df-1720b351-29bb-48b9-89cc-afd498289e5d\">\n",
              "  <button class=\"colab-df-quickchart\" onclick=\"quickchart('df-1720b351-29bb-48b9-89cc-afd498289e5d')\"\n",
              "            title=\"Suggest charts.\"\n",
              "            style=\"display:none;\">\n",
              "\n",
              "<svg xmlns=\"http://www.w3.org/2000/svg\" height=\"24px\"viewBox=\"0 0 24 24\"\n",
              "     width=\"24px\">\n",
              "    <g>\n",
              "        <path d=\"M19 3H5c-1.1 0-2 .9-2 2v14c0 1.1.9 2 2 2h14c1.1 0 2-.9 2-2V5c0-1.1-.9-2-2-2zM9 17H7v-7h2v7zm4 0h-2V7h2v10zm4 0h-2v-4h2v4z\"/>\n",
              "    </g>\n",
              "</svg>\n",
              "  </button>\n",
              "\n",
              "<style>\n",
              "  .colab-df-quickchart {\n",
              "      --bg-color: #E8F0FE;\n",
              "      --fill-color: #1967D2;\n",
              "      --hover-bg-color: #E2EBFA;\n",
              "      --hover-fill-color: #174EA6;\n",
              "      --disabled-fill-color: #AAA;\n",
              "      --disabled-bg-color: #DDD;\n",
              "  }\n",
              "\n",
              "  [theme=dark] .colab-df-quickchart {\n",
              "      --bg-color: #3B4455;\n",
              "      --fill-color: #D2E3FC;\n",
              "      --hover-bg-color: #434B5C;\n",
              "      --hover-fill-color: #FFFFFF;\n",
              "      --disabled-bg-color: #3B4455;\n",
              "      --disabled-fill-color: #666;\n",
              "  }\n",
              "\n",
              "  .colab-df-quickchart {\n",
              "    background-color: var(--bg-color);\n",
              "    border: none;\n",
              "    border-radius: 50%;\n",
              "    cursor: pointer;\n",
              "    display: none;\n",
              "    fill: var(--fill-color);\n",
              "    height: 32px;\n",
              "    padding: 0;\n",
              "    width: 32px;\n",
              "  }\n",
              "\n",
              "  .colab-df-quickchart:hover {\n",
              "    background-color: var(--hover-bg-color);\n",
              "    box-shadow: 0 1px 2px rgba(60, 64, 67, 0.3), 0 1px 3px 1px rgba(60, 64, 67, 0.15);\n",
              "    fill: var(--button-hover-fill-color);\n",
              "  }\n",
              "\n",
              "  .colab-df-quickchart-complete:disabled,\n",
              "  .colab-df-quickchart-complete:disabled:hover {\n",
              "    background-color: var(--disabled-bg-color);\n",
              "    fill: var(--disabled-fill-color);\n",
              "    box-shadow: none;\n",
              "  }\n",
              "\n",
              "  .colab-df-spinner {\n",
              "    border: 2px solid var(--fill-color);\n",
              "    border-color: transparent;\n",
              "    border-bottom-color: var(--fill-color);\n",
              "    animation:\n",
              "      spin 1s steps(1) infinite;\n",
              "  }\n",
              "\n",
              "  @keyframes spin {\n",
              "    0% {\n",
              "      border-color: transparent;\n",
              "      border-bottom-color: var(--fill-color);\n",
              "      border-left-color: var(--fill-color);\n",
              "    }\n",
              "    20% {\n",
              "      border-color: transparent;\n",
              "      border-left-color: var(--fill-color);\n",
              "      border-top-color: var(--fill-color);\n",
              "    }\n",
              "    30% {\n",
              "      border-color: transparent;\n",
              "      border-left-color: var(--fill-color);\n",
              "      border-top-color: var(--fill-color);\n",
              "      border-right-color: var(--fill-color);\n",
              "    }\n",
              "    40% {\n",
              "      border-color: transparent;\n",
              "      border-right-color: var(--fill-color);\n",
              "      border-top-color: var(--fill-color);\n",
              "    }\n",
              "    60% {\n",
              "      border-color: transparent;\n",
              "      border-right-color: var(--fill-color);\n",
              "    }\n",
              "    80% {\n",
              "      border-color: transparent;\n",
              "      border-right-color: var(--fill-color);\n",
              "      border-bottom-color: var(--fill-color);\n",
              "    }\n",
              "    90% {\n",
              "      border-color: transparent;\n",
              "      border-bottom-color: var(--fill-color);\n",
              "    }\n",
              "  }\n",
              "</style>\n",
              "\n",
              "  <script>\n",
              "    async function quickchart(key) {\n",
              "      const quickchartButtonEl =\n",
              "        document.querySelector('#' + key + ' button');\n",
              "      quickchartButtonEl.disabled = true;  // To prevent multiple clicks.\n",
              "      quickchartButtonEl.classList.add('colab-df-spinner');\n",
              "      try {\n",
              "        const charts = await google.colab.kernel.invokeFunction(\n",
              "            'suggestCharts', [key], {});\n",
              "      } catch (error) {\n",
              "        console.error('Error during call to suggestCharts:', error);\n",
              "      }\n",
              "      quickchartButtonEl.classList.remove('colab-df-spinner');\n",
              "      quickchartButtonEl.classList.add('colab-df-quickchart-complete');\n",
              "    }\n",
              "    (() => {\n",
              "      let quickchartButtonEl =\n",
              "        document.querySelector('#df-1720b351-29bb-48b9-89cc-afd498289e5d button');\n",
              "      quickchartButtonEl.style.display =\n",
              "        google.colab.kernel.accessAllowed ? 'block' : 'none';\n",
              "    })();\n",
              "  </script>\n",
              "</div>\n",
              "\n",
              "    </div>\n",
              "  </div>\n"
            ]
          },
          "metadata": {},
          "execution_count": 1
        }
      ],
      "source": [
        "import pandas as pd\n",
        "\n",
        "file_path = '/content/sst.csv'\n",
        "data = pd.read_csv(file_path)\n",
        "\n",
        "data.head()\n"
      ]
    },
    {
      "cell_type": "markdown",
      "source": [
        "**Regression Analysis:**"
      ],
      "metadata": {
        "id": "RlRGD65787jr"
      }
    },
    {
      "cell_type": "markdown",
      "source": [
        "1. Fit an initial linear regression model using all predictors. While this may lead to overfitting, it\n",
        "serves as a starting point."
      ],
      "metadata": {
        "id": "c46uHmSZ9BXH"
      }
    },
    {
      "cell_type": "markdown",
      "source": [
        "2. Evaluate the initial model using metrics like MSE and R2. This will quantify the model's\n",
        "performance."
      ],
      "metadata": {
        "id": "rosUL36c9Im6"
      }
    },
    {
      "cell_type": "code",
      "source": [
        "from sklearn.model_selection import train_test_split\n",
        "from sklearn.linear_model import LinearRegression\n",
        "from sklearn.metrics import mean_squared_error, r2_score\n",
        "from sklearn.preprocessing import OneHotEncoder\n",
        "\n",
        "# One-hot encode\n",
        "encoder = OneHotEncoder(drop='first', sparse_output=False)\n",
        "month_encoded = encoder.fit_transform(data[['month']])\n",
        "month_encoded_df = pd.DataFrame(month_encoded, columns=encoder.get_feature_names_out(['month']))\n",
        "\n",
        "X = pd.concat([data.drop(['water_temperature', 'month'], axis=1), month_encoded_df], axis=1)\n",
        "y = data['water_temperature']\n",
        "\n",
        "X_train, X_test, y_train, y_test = train_test_split(X, y, test_size=0.2, random_state=42)\n",
        "\n",
        "linear_model = LinearRegression()\n",
        "linear_model.fit(X_train, y_train)\n",
        "\n",
        "y_pred = linear_model.predict(X_test)\n",
        "\n",
        "mse = mean_squared_error(y_test, y_pred)\n",
        "r2 = r2_score(y_test, y_pred)\n",
        "\n",
        "mse, r2\n"
      ],
      "metadata": {
        "colab": {
          "base_uri": "https://localhost:8080/"
        },
        "id": "VcFA2H8q3AaP",
        "outputId": "c014d0cf-09a1-4324-f234-a44dfde6fb66"
      },
      "execution_count": 12,
      "outputs": [
        {
          "output_type": "execute_result",
          "data": {
            "text/plain": [
              "(0.9959089175073893, 0.7180053731650053)"
            ]
          },
          "metadata": {},
          "execution_count": 12
        }
      ]
    },
    {
      "cell_type": "markdown",
      "source": [
        "3. Fine-tune the model to avoid overftting or underftting by fnding a good subset of predictors.\n",
        "Justify your reasoning as to why you are removing or keeping certain variables."
      ],
      "metadata": {
        "id": "z_2XQf569PIi"
      }
    },
    {
      "cell_type": "code",
      "source": [
        "import statsmodels.api as sm\n",
        "\n",
        "def backward_elimination(X, y, significance_level = 0.05):\n",
        "    features = X.columns.tolist()\n",
        "    while len(features) > 0:\n",
        "        features_with_constant = sm.add_constant(X[features])\n",
        "        p_values = sm.OLS(y, features_with_constant).fit().pvalues[1:]\n",
        "        max_p_value = p_values.max()\n",
        "        if max_p_value > significance_level:\n",
        "            excluded_feature = p_values.idxmax()\n",
        "            features.remove(excluded_feature)\n",
        "        else:\n",
        "            break\n",
        "    return features\n",
        "\n",
        "\n",
        "significant_features_all = backward_elimination(X_train, y_train)\n",
        "\n",
        "# Fit a new model using only the significant features from all original features\n",
        "X_train_significant_all = X_train[significant_features_all]\n",
        "X_test_significant_all = X_test[significant_features_all]\n",
        "\n",
        "linear_model_significant_all = LinearRegression()\n",
        "linear_model_significant_all.fit(X_train_significant_all, y_train)\n",
        "\n",
        "y_pred_significant_all = linear_model_significant_all.predict(X_test_significant_all)\n",
        "\n",
        "# Calculate the performance metrics for the model with significant features from all original features\n",
        "mse_significant_all = mean_squared_error(y_test, y_pred_significant_all)\n",
        "r2_significant_all = r2_score(y_test, y_pred_significant_all)\n",
        "\n",
        "mse_significant_all, r2_significant_all, significant_features_all\n"
      ],
      "metadata": {
        "colab": {
          "base_uri": "https://localhost:8080/"
        },
        "id": "eiPMR0H94Tat",
        "outputId": "6fa9349a-88b6-4602-ea0f-28c9014ff31c"
      },
      "execution_count": 13,
      "outputs": [
        {
          "output_type": "execute_result",
          "data": {
            "text/plain": [
              "(0.9947811096844658,\n",
              " 0.7183247153664618,\n",
              " ['depth', 'salinity', 'wind_speed', 'month_June'])"
            ]
          },
          "metadata": {},
          "execution_count": 13
        }
      ]
    },
    {
      "cell_type": "markdown",
      "source": [
        "**Regression Tree Analysis**"
      ],
      "metadata": {
        "id": "QfEfMI9h9Voo"
      }
    },
    {
      "cell_type": "markdown",
      "source": [
        "1. Build an initial regression tree model."
      ],
      "metadata": {
        "id": "k__MPAI19Y9m"
      }
    },
    {
      "cell_type": "code",
      "source": [
        "from sklearn.tree import DecisionTreeRegressor\n",
        "\n",
        "tree_model = DecisionTreeRegressor(random_state=42)\n",
        "\n",
        "tree_model.fit(X_train, y_train)\n",
        "\n",
        "y_pred_tree = tree_model.predict(X_test)\n",
        "\n",
        "mse_tree_initial = mean_squared_error(y_test, y_pred_tree)\n",
        "r2_tree_initial = r2_score(y_test, y_pred_tree)\n",
        "\n",
        "mse_tree_initial, r2_tree_initial\n"
      ],
      "metadata": {
        "colab": {
          "base_uri": "https://localhost:8080/"
        },
        "id": "8Tfpzj3U6stQ",
        "outputId": "569920ba-8660-43d4-edaa-4b19d69de260"
      },
      "execution_count": 8,
      "outputs": [
        {
          "output_type": "execute_result",
          "data": {
            "text/plain": [
              "(2.0788990000000003, 0.41135345067507756)"
            ]
          },
          "metadata": {},
          "execution_count": 8
        }
      ]
    },
    {
      "cell_type": "markdown",
      "source": [
        "2. Tune the model parameters like tree depth and minimum samples per leaf. This ensures that\n",
        "the model is neither too complex nor too simple.\n",
        "3. Evaluate the tuned model's performance using MSE and R2."
      ],
      "metadata": {
        "id": "vca__YAE9adW"
      }
    },
    {
      "cell_type": "code",
      "source": [
        "from sklearn.model_selection import GridSearchCV\n",
        "\n",
        "param_grid = {\n",
        "    'max_depth': range(1, 20),\n",
        "    'min_samples_leaf': range(1, 20),\n",
        "}\n",
        "tree_model_cv = GridSearchCV(DecisionTreeRegressor(random_state=42), param_grid, cv=5, scoring='neg_mean_squared_error')\n",
        "\n",
        "tree_model_cv.fit(X_train, y_train)\n",
        "\n",
        "best_params = tree_model_cv.best_params_\n",
        "\n",
        "y_pred_tree_tuned = tree_model_cv.predict(X_test)\n",
        "\n",
        "mse_tree_tuned = mean_squared_error(y_test, y_pred_tree_tuned)\n",
        "r2_tree_tuned = r2_score(y_test, y_pred_tree_tuned)\n",
        "\n",
        "best_params, mse_tree_tuned, r2_tree_tuned\n"
      ],
      "metadata": {
        "colab": {
          "base_uri": "https://localhost:8080/"
        },
        "id": "R122Wq4K6xpt",
        "outputId": "74794d94-96c6-49d8-ec7c-58ac96bb736d"
      },
      "execution_count": 10,
      "outputs": [
        {
          "output_type": "execute_result",
          "data": {
            "text/plain": [
              "({'max_depth': 3, 'min_samples_leaf': 10},\n",
              " 1.0974554042309475,\n",
              " 0.6892521778409941)"
            ]
          },
          "metadata": {},
          "execution_count": 10
        }
      ]
    },
    {
      "cell_type": "markdown",
      "source": [
        "**Technical Report:**\n",
        "\n",
        "\n",
        "**Linear Regression Model Analysis:**<br>\n",
        "The best linear regression model was identified through backward elimination based on p-values, ensuring only statistically significant predictors were retained. This process led to a model that included the following features: depth, salinity, wind speed, and the categorical variable for the month of June. The performance of this model yielded a Mean Squared Error (MSE) of approximately 0.995 and a Coefficient of Determination (\\( R^2 \\)) of 0.718. These metrics indicate a robust model that accounts for approximately 71.8% of the variance in sea surface temperature.\n",
        "\n",
        "**Regression Tree Model Analysis:**<br>\n",
        "For the regression tree analysis, the model was tuned for parameters like tree depth and minimum samples per leaf. The optimal model had a maximum depth of 3 and required at least 10 samples per leaf node. The tuned regression tree model demonstrated an MSE of approximately 1.097 and an \\( R^2 \\)) of 0.689. While the improvement from the initial tree model was substantial, it still lagged behind the linear regression model in performance.\n",
        "\n",
        "**Best Overall Model:**\n",
        "Comparing the two approaches, the linear regression model with selected predictors based on statistical significance is determined to be the best overall model. Its higher \\( R^2 \\) value and lower MSE make it more reliable for predicting sea surface temperatures. Additionally, the linear model's simplicity and interpretability make it a suitable choice for both scientists and policymakers.\n",
        "\n",
        "**Model Findings and Implications:**<br>\n",
        "Our analysis reveals that sea depth, salinity, wind speed, and the month of June significantly influence sea surface temperature. These insights are crucial for predicting and preparing for El Niño-related changes. The identified key factors can serve as indicators for potential temperature shifts, assisting sectors like agriculture and fisheries in planning and response. We recommend employing the refined linear regression model for ongoing sea temperature monitoring to support climate-related decision-making.\n",
        "\n"
      ],
      "metadata": {
        "id": "YT9IAhxK7ji9"
      }
    }
  ]
}